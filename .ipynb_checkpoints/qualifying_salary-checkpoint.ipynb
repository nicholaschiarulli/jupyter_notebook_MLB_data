{
 "cells": [
  {
   "cell_type": "markdown",
   "metadata": {},
   "source": [
    "In baseball, a team can provide a departing free agent player with a qualifying offer1: a one-year contract whose monetary value is the average of the 125 highest salaries from the past season. The player is free to reject it and sign with any other team, but his new team will have to forfeit a draft pick.\n",
    "\n",
    "Use the provided dataset to write a program or application that determines the monetary value of the upcoming qualifying offer and displays the amount along with any other relevant information or visualizations to the user. Note that while the URL and general format of the data will be consistent, the data itself can change slightly with each page load, so make sure your code pulls the data each time it is run and expect the final result to change each time.\n",
    "\n",
    "You should submit a link or file containing your response to the question, including all source code. The link or file should contain a README that contains clear, step-by-step instructions for how to run or access your response.\n",
    "\n",
    "Submissions will be graded on accuracy, readability, reproducibility, error handling and presentation of the result to the user. Use of online resources such as Stack Overflow is encouraged, but please cite (by including a comment in your code with a link to the resource) any answers used and provide comments on your particular implementation if appropriate. Use of open-source/third-party libraries is encouraged.\n",
    "\n",
    "Data: https://questionnaire-148920.appspot.com/swe/data.html\n",
    "\n",
    "Tip: As is often the case, the data sometimes contains corrupted or malformed values. Do your best to handle these and feel free to ignore missing values, but make sure they don’t interfere with the calculation or presentation of the final result."
   ]
  },
  {
   "cell_type": "code",
   "execution_count": 1,
   "metadata": {},
   "outputs": [
    {
     "data": {
      "text/plain": [
       "[                  Player       Salary  Year Level\n",
       " 0            Abreu, Jose  $11,666,667  2016   MLB\n",
       " 1        Acevedo, Andury     $507,500  2016   MLB\n",
       " 2         Ackley, Dustin   $3,200,000  2016   MLB\n",
       " 3      Adames, Cristhian     $507,500  2016   MLB\n",
       " 4          Adams, Austin     $507,500  2016   MLB\n",
       " ...                  ...          ...   ...   ...\n",
       " 1203     Zimmerman, Ryan  $14,000,000  2016   MLB\n",
       " 1204  Zimmermann, Jordan  $18,000,000  2016   MLB\n",
       " 1205        Zobrist, Ben  $10,500,000  2016   MLB\n",
       " 1206        Zunino, Mike     $507,500  2016   MLB\n",
       " 1207          Zych, Tony     $507,500  2016   MLB\n",
       " \n",
       " [1208 rows x 4 columns]]"
      ]
     },
     "execution_count": 1,
     "metadata": {},
     "output_type": "execute_result"
    }
   ],
   "source": [
    "import pandas as pd\n",
    "import html5lib\n",
    "pd.read_html(\"http://questionnaire-148920.appspot.com/swe/data.html\")"
   ]
  },
  {
   "cell_type": "code",
   "execution_count": 4,
   "metadata": {},
   "outputs": [
    {
     "name": "stdout",
     "output_type": "stream",
     "text": [
      "Collecting lxml\n",
      "  Downloading lxml-4.5.2-cp38-cp38-manylinux1_x86_64.whl (5.4 MB)\n",
      "\u001b[K     |████████████████████████████████| 5.4 MB 1.9 MB/s eta 0:00:01\n",
      "\u001b[?25hInstalling collected packages: lxml\n",
      "Successfully installed lxml-4.5.2\n"
     ]
    }
   ],
   "source": []
  },
  {
   "cell_type": "code",
   "execution_count": null,
   "metadata": {},
   "outputs": [],
   "source": []
  }
 ],
 "metadata": {
  "kernelspec": {
   "display_name": "phillies",
   "language": "python",
   "name": "phillies"
  },
  "language_info": {
   "codemirror_mode": {
    "name": "ipython",
    "version": 3
   },
   "file_extension": ".py",
   "mimetype": "text/x-python",
   "name": "python",
   "nbconvert_exporter": "python",
   "pygments_lexer": "ipython3",
   "version": "3.8.5"
  }
 },
 "nbformat": 4,
 "nbformat_minor": 4
}
